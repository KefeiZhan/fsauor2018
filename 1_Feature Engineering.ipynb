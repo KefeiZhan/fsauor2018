{
 "cells": [
  {
   "cell_type": "markdown",
   "metadata": {},
   "source": [
    "# Part 1: Feature Engineering\n",
    "\n",
    "This notebook showcases different techniques for feature engineering and how they perform with the baseline model."
   ]
  },
  {
   "cell_type": "code",
   "execution_count": 1,
   "metadata": {},
   "outputs": [],
   "source": [
    "%load_ext autoreload\n",
    "%autoreload 2\n",
    "\n",
    "import pandas as pd\n",
    "import numpy as np"
   ]
  },
  {
   "cell_type": "markdown",
   "metadata": {},
   "source": [
    "First, check how word segmentation works with the library we chose:"
   ]
  },
  {
   "cell_type": "code",
   "execution_count": 2,
   "metadata": {},
   "outputs": [
    {
     "name": "stderr",
     "output_type": "stream",
     "text": [
      "2018-10-25 21:52:32,420 [fgclassifier][INFO] Reading data/validate/sentiment_analysis_validationset.csv..\n"
     ]
    },
    {
     "name": "stdout",
     "output_type": "stream",
     "text": [
      "\"哎，想当年来佘山的时候，啥都没有，三品香算镇上最大看起来最像样的饭店了。菜品多，有点太多，感觉啥都有，杂都不足以形容。随便点些，居然口味什么的都好还可以，价钱自然是便宜当震惊。元宝虾和椒盐九肚鱼都不错吃。不过近来几次么，味道明显没以前好了。冷餐里面一个凉拌海带丝还可以，酸酸甜甜的。镇上也有了些别的大点的饭店，所以不是每次必来了。对了，这家的生意一如既往的超级好，不定位基本吃不到。不过佘山这边的人吃晚饭很早的，所以稍微晚点去就很空了。\"\n",
      "\" 哎 ， 想当年 来 佘山 的 时候 ， 啥 都 没有 ， 三品 香算 镇上 最大 看起来 最 像样 的 饭店 了 。 菜品 多 ， 有点 太 多 ， 感觉 啥 都 有 ， 杂都 不足以 形容 。 随便 点些 ， 居然 口味 什么 的 都 好 还 可以 ， 价钱 自然 是 便宜 当 震惊 。 元宝 虾 和 椒盐 九肚鱼 都 不错 吃 。 不过 近来 几次 么 ， 味道 明显 没 以前 好 了 。 冷餐 里面 一个 凉拌 海带丝 还 可以 ， 酸酸甜甜 的 。 镇上 也 有 了 些 别的 大点 的 饭店 ， 所以 不是 每次 必来 了 。 对 了 ， 这家 的 生意 一如既往 的 超级 好 ， 不 定位 基本 吃 不到 。 不过 佘山 这边 的 人 吃晚饭 很早 的 ， 所以 稍微 晚点 去 就 很 空 了 。 \"\n"
     ]
    }
   ],
   "source": [
    "import jieba\n",
    "from config import validate_data_path \n",
    "from fgclassifier import read_csv\n",
    "\n",
    "df = read_csv(validate_data_path, seg_words=False)\n",
    "\n",
    "print(df['content'][0])\n",
    "segs = jieba.lcut(df['content'][0])\n",
    "print(\" \".join(segs))"
   ]
  },
  {
   "cell_type": "code",
   "execution_count": 3,
   "metadata": {},
   "outputs": [
    {
     "data": {
      "text/plain": [
       "id                                                                                          0\n",
       "content                                     \"哎，想当年来佘山的时候，啥都没有，三品香算镇上最大看起来最像样的饭店了。菜品多，有点太多，...\n",
       "location_traffic_convenience                                                               -2\n",
       "location_distance_from_business_district                                                   -2\n",
       "location_easy_to_find                                                                      -2\n",
       "service_wait_time                                                                           0\n",
       "service_waiters_attitude                                                                   -2\n",
       "service_parking_convenience                                                                -2\n",
       "service_serving_speed                                                                      -2\n",
       "price_level                                                                                 1\n",
       "price_cost_effective                                                                       -2\n",
       "price_discount                                                                             -2\n",
       "environment_decoration                                                                     -2\n",
       "environment_noise                                                                          -2\n",
       "environment_space                                                                          -2\n",
       "environment_cleaness                                                                       -2\n",
       "dish_portion                                                                               -2\n",
       "dish_taste                                                                                  0\n",
       "dish_look                                                                                  -2\n",
       "dish_recommendation                                                                        -2\n",
       "others_overall_experience                                                                   1\n",
       "others_willing_to_consume_again                                                             0\n",
       "Name: 0, dtype: object"
      ]
     },
     "execution_count": 3,
     "metadata": {},
     "output_type": "execute_result"
    }
   ],
   "source": [
    "df.iloc[0,:]"
   ]
  },
  {
   "cell_type": "markdown",
   "metadata": {},
   "source": [
    "Check what TfIdfVectorizer does to it:"
   ]
  },
  {
   "cell_type": "code",
   "execution_count": 7,
   "metadata": {},
   "outputs": [
    {
     "name": "stderr",
     "output_type": "stream",
     "text": [
      "2018-10-25 22:52:24,431 [INFO][fgclassifier] Reading ./data/train/sentiment_analysis_trainingset.csv..\n",
      "2018-10-25 22:52:26,098 [INFO][fgclassifier] Segmenting ./data/train/sentiment_analysis_trainingset.csv..\n"
     ]
    }
   ],
   "source": [
    "import config\n",
    "from fgclassifier.baseline import Indie\n",
    "\n",
    "model = Indie()\n",
    "X_train, Y_train = model.load(config.train_data_path, sample_n=1000)"
   ]
  },
  {
   "cell_type": "code",
   "execution_count": null,
   "metadata": {},
   "outputs": [],
   "source": []
  }
 ],
 "metadata": {
  "kernelspec": {
   "display_name": "Python 3",
   "language": "python",
   "name": "python3"
  },
  "language_info": {
   "codemirror_mode": {
    "name": "ipython",
    "version": 3
   },
   "file_extension": ".py",
   "mimetype": "text/x-python",
   "name": "python",
   "nbconvert_exporter": "python",
   "pygments_lexer": "ipython3",
   "version": "3.6.3"
  }
 },
 "nbformat": 4,
 "nbformat_minor": 2
}
