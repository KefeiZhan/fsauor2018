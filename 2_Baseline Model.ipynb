{
 "cells": [
  {
   "cell_type": "code",
   "execution_count": 11,
   "metadata": {},
   "outputs": [
    {
     "name": "stdout",
     "output_type": "stream",
     "text": [
      "The autoreload extension is already loaded. To reload it, use:\n",
      "  %reload_ext autoreload\n"
     ]
    }
   ],
   "source": [
    "%load_ext autoreload\n",
    "%autoreload 2\n",
    "\n",
    "import pandas as pd\n",
    "import numpy as np\n",
    "import matplotlib.pyplot as plt\n",
    "\n",
    "import logging\n",
    "\n",
    "logging.getLogger('jieba').setLevel(logging.WARN)\n",
    "logging.getLogger('fgclassifier').setLevel(logging.INFO)"
   ]
  },
  {
   "cell_type": "code",
   "execution_count": 12,
   "metadata": {},
   "outputs": [
    {
     "name": "stderr",
     "output_type": "stream",
     "text": [
      "2018-10-28 17:44:07,236 [INFO] Reading data/train/sentiment_analysis_trainingset.csv..\n",
      "2018-10-28 17:44:07,240 [INFO] Found cache, use cached.\n",
      "2018-10-28 17:44:09,287 [INFO] Reading data/validate/sentiment_analysis_validationset.csv..\n",
      "2018-10-28 17:44:09,289 [INFO] Found cache, use cached.\n"
     ]
    }
   ],
   "source": [
    "import config\n",
    "from fgclassifier.baseline import Indie\n",
    "from fgclassifier import classifiers\n",
    "\n",
    "model = Indie()\n",
    "X_train, Y_train = model.load(config.train_data_path, sample_n=2000)\n",
    "X_validate, Y_validate = model.load(config.validate_data_path, sample_n=100)\n",
    "\n",
    "# all_avg_scores, all_scores = {}, {}\n",
    "# for cls in dir(classifiers):\n",
    "#     if cls.startswith('_'):\n",
    "#         continue\n",
    "#     Classifier = getattr(classifiers, cls) \n",
    "#     model = Indie(classifier=Classifier)\n",
    "#     model.train(X_train, Y_train)\n",
    "#     avg_score, scores = model.validate(X_validate, Y_validate)\n",
    "#     all_avg_scores[cls] = avg_score\n",
    "#     all_scores[cls] = scores"
   ]
  },
  {
   "cell_type": "code",
   "execution_count": 18,
   "metadata": {},
   "outputs": [
    {
     "data": {
      "text/plain": [
       "location_traffic_convenience               -2799.0\n",
       "location_distance_from_business_district   -2870.0\n",
       "location_easy_to_find                      -2840.0\n",
       "service_wait_time                          -3487.0\n",
       "service_waiters_attitude                   -1076.0\n",
       "service_parking_convenience                -3705.0\n",
       "service_serving_speed                      -3359.0\n",
       "price_level                                -1957.0\n",
       "price_cost_effective                       -2771.0\n",
       "price_discount                             -2159.0\n",
       "environment_decoration                     -1350.0\n",
       "environment_noise                          -2391.0\n",
       "environment_space                          -2133.0\n",
       "environment_cleaness                       -2091.0\n",
       "dish_portion                               -1773.0\n",
       "dish_taste                                   715.0\n",
       "dish_look                                  -2498.0\n",
       "dish_recommendation                        -2967.0\n",
       "others_overall_experience                   1085.0\n",
       "others_willing_to_consume_again            -1988.0\n",
       "dtype: float64"
      ]
     },
     "execution_count": 18,
     "metadata": {},
     "output_type": "execute_result"
    }
   ],
   "source": [
    "np.sum(Y_train)"
   ]
  }
 ],
 "metadata": {
  "kernelspec": {
   "display_name": "Python 3",
   "language": "python",
   "name": "python3"
  },
  "language_info": {
   "codemirror_mode": {
    "name": "ipython",
    "version": 3
   },
   "file_extension": ".py",
   "mimetype": "text/x-python",
   "name": "python",
   "nbconvert_exporter": "python",
   "pygments_lexer": "ipython3",
   "version": "3.6.3"
  }
 },
 "nbformat": 4,
 "nbformat_minor": 2
}
