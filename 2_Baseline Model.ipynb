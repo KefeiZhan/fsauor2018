{
 "cells": [
  {
   "cell_type": "code",
   "execution_count": 1,
   "metadata": {},
   "outputs": [],
   "source": [
    "%load_ext autoreload\n",
    "%autoreload 2\n",
    "\n",
    "import pandas as pd\n",
    "import numpy as np\n",
    "import matplotlib.pyplot as plt\n",
    "\n",
    "import logging\n",
    "\n",
    "logging.getLogger('jieba').setLevel(logging.WARN)\n",
    "logging.getLogger('fgclassifier').setLevel(logging.WARN)"
   ]
  },
  {
   "cell_type": "code",
   "execution_count": 14,
   "metadata": {},
   "outputs": [
    {
     "name": "stdout",
     "output_type": "stream",
     "text": [
      "<fgclassifier.baseline.Indie object at 0xa1050f5c0>\n",
      "<fgclassifier.baseline.Indie object at 0xa1050f6d8>\n",
      "<fgclassifier.baseline.Indie object at 0xa1050f5c0>\n",
      "<fgclassifier.baseline.Indie object at 0xa1050fdd8>\n"
     ]
    }
   ],
   "source": [
    "import config\n",
    "from fgclassifier.baseline import Indie\n",
    "from fgclassifier import classifiers\n",
    "\n",
    "# model = Indie()\n",
    "# X_train, Y_train = model.load(config.train_data_path, sample_n=2000)\n",
    "# X_validate, Y_validate = model.load(config.validate_data_path, sample_n=100)\n",
    "\n",
    "all_avg_scores, all_scores = {}, {}\n",
    "for cls in dir(classifiers):\n",
    "    if cls.startswith('_'):\n",
    "        continue\n",
    "    Classifier = getattr(classifiers, cls) \n",
    "    model = Indie(classifier=Classifier)\n",
    "#     model.train(X_train, Y_train)\n",
    "#     avg_score, scores = model.validate(X_validate, Y_validate)\n",
    "#     all_avg_scores[cls] = avg_score\n",
    "#     all_scores[cls] = scores"
   ]
  },
  {
   "cell_type": "code",
   "execution_count": null,
   "metadata": {},
   "outputs": [],
   "source": []
  }
 ],
 "metadata": {
  "kernelspec": {
   "display_name": "Python 3",
   "language": "python",
   "name": "python3"
  }
 },
 "nbformat": 4,
 "nbformat_minor": 2
}
